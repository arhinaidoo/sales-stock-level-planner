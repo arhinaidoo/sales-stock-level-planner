{
 "cells": [
  {
   "cell_type": "code",
   "execution_count": null,
   "id": "143292d3",
   "metadata": {},
   "outputs": [],
   "source": [
    "\n",
    "#In this project, you are going to simulate a sales and operations planning using the zero-stock level strategy. \n",
    "    #Write a Python program that asks the user to enter the following data:\n",
    "\n",
    "#- An initial stock level for a product\n",
    "\n",
    "#- The number of month(s) to plan\n",
    "\n",
    "#- The planned sales quantity for each month\n",
    "\n",
    "#Based on this data, calculate the required production quantity as follows:\n",
    "\n",
    "#- If the sales quantity is smaller than the stock level of the previous month, the production quantity is 0\n",
    "\n",
    "#- If the sales quantity is larger than the stock level of the previous month, the production quantity is this difference\n"
   ]
  },
  {
   "cell_type": "code",
   "execution_count": 1,
   "id": "4dfd2976",
   "metadata": {},
   "outputs": [],
   "source": [
    "#this loop prompts the user of an invalid entry if there's any and an option to re-enter input for intial stock level\n",
    "initial_stock_level=0\n",
    "\n",
    "while True:\n",
    "    \n",
    "    try : initial_stock_level=int(input('\\nEnter the initial stock level of the product:'))\n",
    "    except:\n",
    "        print('\\nThis is not a valid entry, enter an integer')\n",
    "    else:\n",
    "        break\n",
    "\n",
    "#this loop prompts the user of an invalid entry if there's any and an option to re-enter input for number of months\n",
    "months_to_plan=0\n",
    "\n",
    "while True:\n",
    "    \n",
    "    try : months_to_plan=int(input('\\nEnter the number of month(s) to plan for:'))\n",
    "    except:\n",
    "        print('\\nThis is not a valid entry, enter an integer')\n",
    "    else:\n",
    "        break\n",
    "\n",
    "\n",
    "#Creating list container to hold values from planned quantity per month of stated months\n",
    "total_planned_qty=[]\n",
    "       \n",
    "        \n",
    "#the cnt is being used to help number the months to the user when giving the input\n",
    "cnt=1\n",
    "\n",
    "#using while loop to iterate and receive valid and expected number as indicated in number of months to stock above\n",
    "while len(total_planned_qty) < months_to_plan:\n",
    "    try:\n",
    "        total_planned_qty.append(int(input(f'Please enter planned sales for Month {cnt}. :')))\n",
    "        cnt += 1                               \n",
    "    except:\n",
    "        print('\\nThis is not a valid entry')\n",
    "        \n",
    "#print (total_planned_qty)\n",
    "\n",
    "#declares a list to store results of iterating and calculating the planned sales and ecxpected stock level\n",
    "production_qty=[]\n",
    "\n",
    "for level in total_planned_qty:\n",
    "    \n",
    "    if initial_stock_level>level:\n",
    "        production_qty.append(0)\n",
    "        initial_stock_level=initial_stock_level-level\n",
    "        \n",
    "    elif initial_stock_level<0:\n",
    "        production_qty.append(level)\n",
    "        \n",
    "    else:\n",
    "        initial_stock_level=initial_stock_level-level\n",
    "        production_qty.append(abs(initial_stock_level)) # the abs finds the absolute value which makes negative values positive\n",
    "        \n",
    "#creates space\n",
    "print()\n",
    "\n",
    "#the cnt is being defined to help number the months to the user when giving the output\n",
    "cnt_out=0\n",
    "for item in  production_qty:\n",
    "    cnt_out += 1  \n",
    "    print(f'production quantity for month {cnt_out}', '-', item) #prints the result"
   ]
  },
  {
   "cell_type": "code",
   "execution_count": null,
   "id": "36ed8f07",
   "metadata": {},
   "outputs": [],
   "source": []
  }
 ],
 "metadata": {
  "kernelspec": {
   "display_name": "base",
   "language": "python",
   "name": "python3"
  },
  "language_info": {
   "codemirror_mode": {
    "name": "ipython",
    "version": 3
   },
   "file_extension": ".py",
   "mimetype": "text/x-python",
   "name": "python",
   "nbconvert_exporter": "python",
   "pygments_lexer": "ipython3",
   "version": "3.9.13"
  },
  "vscode": {
   "interpreter": {
    "hash": "a077222d77dfe082b8f1dd562ad70e458ac2ab76993a0b248ab0476e32e9e8dd"
   }
  }
 },
 "nbformat": 4,
 "nbformat_minor": 5
}
